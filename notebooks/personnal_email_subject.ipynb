{
 "cells": [
  {
   "cell_type": "code",
   "execution_count": 352,
   "metadata": {},
   "outputs": [],
   "source": [
    "import re\n",
    "import email\n",
    "import os\n",
    "from stop_words import get_stop_words\n",
    "from gensim import corpora, models, utils\n",
    "from nltk.stem.porter import PorterStemmer\n",
    "from nltk import clean_html\n",
    "from bs4 import BeautifulSoup\n",
    "from collections import defaultdict\n",
    "\n",
    "import pyLDAvis\n",
    "import pyLDAvis.gensim\n",
    "\n",
    "import pandas as pd\n",
    "import numpy as np\n",
    "import matplotlib.pyplot as plt"
   ]
  },
  {
   "cell_type": "code",
   "execution_count": 2,
   "metadata": {},
   "outputs": [
    {
     "data": {
      "text/plain": [
       "'C:\\\\Users\\\\EricJulienASKINAZI\\\\Documents\\\\mail\\\\email_classification\\\\notebooks'"
      ]
     },
     "execution_count": 2,
     "metadata": {},
     "output_type": "execute_result"
    }
   ],
   "source": [
    "pwd"
   ]
  },
  {
   "cell_type": "code",
   "execution_count": 353,
   "metadata": {
    "scrolled": true
   },
   "outputs": [],
   "source": [
    "# Read emails from csv\n",
    "\n",
    "file_name = os.path.join('../data/email_perso.csv')\n",
    "full_data = pd.read_csv(file_name, encoding='latin1')\n",
    "\n",
    "#full_data = full_data.loc[[5, 6]]\n",
    "'''full_data.loc[8, 'Body'] = \"Apple\"\n",
    "full_data.loc[9, 'Body'] = \"Oranges\"\n",
    "full_data.loc[4, 'Body'] = \"Heyo\"\n",
    "full_data.loc[5, 'Body'] = \"a b c\"\n",
    "full_data.loc[6, 'Body'] = \"a b c d e f\"'''\n",
    "\n",
    "\n",
    "\n",
    "\n",
    "body = full_data[\"Body\"]\n",
    "subjects = full_data[\"Subject\"]\n",
    "#print(full_data)"
   ]
  },
  {
   "cell_type": "code",
   "execution_count": 355,
   "metadata": {
    "scrolled": false
   },
   "outputs": [],
   "source": [
    "#full_data = full_data.drop([0])\n",
    "#print(full_data)\n",
    "full_data['Subject'] =  [re.sub(\"((re)|(fwd?)).?: \", \"\", str(x).lower()) for x in full_data['Subject']]\n",
    "#full_data.style"
   ]
  },
  {
   "cell_type": "code",
   "execution_count": 356,
   "metadata": {
    "scrolled": true
   },
   "outputs": [
    {
     "name": "stderr",
     "output_type": "stream",
     "text": [
      "C:\\Users\\EricJulienASKINAZI\\Anaconda3\\lib\\site-packages\\ipykernel_launcher.py:24: SettingWithCopyWarning: \n",
      "A value is trying to be set on a copy of a slice from a DataFrame\n",
      "\n",
      "See the caveats in the documentation: http://pandas.pydata.org/pandas-docs/stable/indexing.html#indexing-view-versus-copy\n"
     ]
    }
   ],
   "source": [
    "to_drop = []\n",
    "to_keep = []\n",
    "\n",
    "\n",
    "for index, row in full_data.iterrows():\n",
    "    \n",
    "\n",
    "    if(index not in to_drop and index not in to_keep) :\n",
    "        same_subject_df = full_data.loc[full_data['Subject'] == row['Subject']]\n",
    "\n",
    "        if len(same_subject_df) > 1 :\n",
    "\n",
    "            most_recent_index = same_subject_df.index[-1]\n",
    "            to_keep.append(most_recent_index)\n",
    "\n",
    "            most_recent = same_subject_df.loc[most_recent_index]\n",
    "\n",
    "            \n",
    "\n",
    "            for s_index, s_row in same_subject_df.iterrows() :\n",
    "                if s_index != most_recent_index :\n",
    "                    if s_row[\"Body\"] not in most_recent[\"Body\"] :\n",
    "                        #print(\"pas dans\")\n",
    "                        most_recent[\"Body\"] += \" \" + s_row[\"Body\"]\n",
    "\n",
    "                    #full_data.drop([s_index])\n",
    "                    to_drop.append(s_index)\n",
    "\n",
    "                    #most_recent.style()\n",
    "\n",
    "                    #full_data[\"Body\"][most_recent_index] = most_recent[\"Body\"]\n",
    "                    \n",
    "        else :\n",
    "            to_keep.append(index)\n",
    "\n",
    "unique_data = full_data.drop(to_drop)\n",
    "\n",
    "    \n",
    "    \n",
    "    "
   ]
  },
  {
   "cell_type": "code",
   "execution_count": null,
   "metadata": {
    "scrolled": true
   },
   "outputs": [],
   "source": [
    "unique_data.style"
   ]
  },
  {
   "cell_type": "code",
   "execution_count": null,
   "metadata": {},
   "outputs": [],
   "source": [
    "def word_frequency_filter(texts, count_threshold):\n",
    "    \"\"\"Remove word whose frequency is less than a count threshold\n",
    "    \"\"\"\n",
    "\n",
    "    frequency = defaultdict(int)\n",
    "    for text in texts:\n",
    "        for token in text:\n",
    "            frequency[token] += 1\n",
    "\n",
    "    return [[token for token in text if frequency[token] > count_threshold] for text in texts ] "
   ]
  },
  {
   "cell_type": "code",
   "execution_count": null,
   "metadata": {
    "scrolled": true
   },
   "outputs": [],
   "source": [
    "# Text preprocess\n",
    "processed_msg = {}\n",
    "raw_message = []\n",
    "for key, document in cleaned_msg.items():\n",
    "    # raw = document.lower() # use less with simple token\n",
    "    tokens = utils.simple_preprocess(document, min_len=3)\n",
    "    # print(tokens)\n",
    "    # remove stop words from tokens\n",
    "    stopped_tokens = [i for i in tokens if (not i in en_stop)]\n",
    "    # stem tokens\n",
    "    stemmed_tokens = [p_stemmer.stem(i) for i in stopped_tokens]\n",
    "    print(key)\n",
    "    # Lemmatize ?\n",
    "    print(stemmed_tokens)\n",
    "    # Remove tokens that not appear enough in the corpus\n",
    "    # remove words that appear only once\n",
    "    st_tokens = word_frequency_filter(stemmed_tokens, 2)\n",
    "    print(\"-\"*100)\n",
    "    \n",
    "    processed_msg[key] = stemmed_tokens\n",
    "    \n",
    "    \n",
    "    raw_message.append(document)\n"
   ]
  },
  {
   "cell_type": "code",
   "execution_count": null,
   "metadata": {},
   "outputs": [],
   "source": [
    "# turn our tokenized documents into a id <-> term dictionary\n",
    "dictionary = corpora.Dictionary([ email for _, email in processed_msg.items()])"
   ]
  },
  {
   "cell_type": "code",
   "execution_count": null,
   "metadata": {},
   "outputs": [],
   "source": [
    "number_topic = 7\n",
    "# convert tokenized documents into a document-term matrix\n",
    "corpus = [dictionary.doc2bow(text) for _, text in processed_msg.items()]\n",
    "\n",
    "# generate LDA model\n",
    "ldamodel = models.ldamodel.LdaModel(corpus, num_topics=number_topic, id2word=dictionary, passes=100)\n",
    "\n",
    "ldamodel.print_topics(num_topics = number_topic, num_words=10)"
   ]
  },
  {
   "cell_type": "code",
   "execution_count": null,
   "metadata": {
    "scrolled": true
   },
   "outputs": [],
   "source": [
    "for count, c in enumerate(ldamodel[corpus]):\n",
    "    print(c)\n",
    "    print(\"document number : {}\".format(count))   \n",
    "    print(\"------------------------------------------------------\\n\")"
   ]
  },
  {
   "cell_type": "code",
   "execution_count": null,
   "metadata": {
    "scrolled": true
   },
   "outputs": [],
   "source": [
    "for count, c in enumerate(ldamodel[corpus]):\n",
    "    print(\"document number : {}\".format(count))\n",
    "    print(cleaned_msg[key_list[count]])\n",
    "    print(\"Results     : \", c)\n",
    "    print(\"------------------------------------------------------\\n\")"
   ]
  },
  {
   "cell_type": "code",
   "execution_count": null,
   "metadata": {},
   "outputs": [],
   "source": [
    "vis = pyLDAvis.gensim.prepare(topic_model=ldamodel, corpus=corpus, dictionary=dictionary)\n",
    "pyLDAvis.enable_notebook()\n",
    "pyLDAvis.display(vis)"
   ]
  },
  {
   "cell_type": "code",
   "execution_count": null,
   "metadata": {},
   "outputs": [],
   "source": [
    "ldamodel.get_document_topics(corpus[0])"
   ]
  },
  {
   "cell_type": "code",
   "execution_count": null,
   "metadata": {},
   "outputs": [],
   "source": [
    "ldamodel.get_topics()"
   ]
  },
  {
   "cell_type": "code",
   "execution_count": null,
   "metadata": {},
   "outputs": [],
   "source": [
    "ldamodel.show_topics()"
   ]
  },
  {
   "cell_type": "code",
   "execution_count": null,
   "metadata": {
    "scrolled": false
   },
   "outputs": [],
   "source": [
    "topic = 4\n",
    "for count, c in enumerate(ldamodel[corpus]):\n",
    "    for cc in c:\n",
    "        if cc[0] == topic:\n",
    "            print(\"document number : {}\".format(count))\n",
    "            print(cleaned_msg[key_list[count]])\n",
    "            print(\"\\n\")\n",
    "            print(\"Topics number      : \", c[0])\n",
    "            print(ldamodel.print_topic(c[0][0]))\n",
    "            print(\"\\n\")\n",
    "            print(\"similarity index : {}\".format(c[0][1]))\n",
    "            print(\"\\n\")\n",
    "            print(processed_msg[count])\n",
    "            print(\"------------------------------------------------------\\n\")"
   ]
  },
  {
   "cell_type": "code",
   "execution_count": null,
   "metadata": {},
   "outputs": [],
   "source": [
    "msg_len = [len(mess) for _, mess in cleaned_msg.items()]\n",
    "plt.hist(msg_len, 100)"
   ]
  },
  {
   "cell_type": "markdown",
   "metadata": {},
   "source": []
  },
  {
   "cell_type": "markdown",
   "metadata": {},
   "source": [
    "Minimal length of documet should be 70 character"
   ]
  },
  {
   "cell_type": "code",
   "execution_count": null,
   "metadata": {},
   "outputs": [],
   "source": []
  },
  {
   "cell_type": "code",
   "execution_count": null,
   "metadata": {},
   "outputs": [],
   "source": []
  },
  {
   "cell_type": "code",
   "execution_count": null,
   "metadata": {},
   "outputs": [],
   "source": []
  },
  {
   "cell_type": "code",
   "execution_count": null,
   "metadata": {},
   "outputs": [],
   "source": []
  },
  {
   "cell_type": "code",
   "execution_count": null,
   "metadata": {},
   "outputs": [],
   "source": []
  },
  {
   "cell_type": "code",
   "execution_count": null,
   "metadata": {},
   "outputs": [],
   "source": [
    "\"Hello Christophe & Hussam Thanks to your hard work and teamwork , I am pleased to say that Upskills is going to be a vendor with scb. I just had a coffee with Saim and he just gave the green signal for on-boarding process. Well done and congrats on your achievement . Thank you Regards George Get Outlook for iOS\" in \"Hi George, Hussam and Christophe, Great job! Thank you for your effort. Van Anh From: George VARGHESE Sent: Tuesday, 14 May 2019 4:05 PM To: Christophe BOETTO ; Hussam HAMDAN ; Aurelien BAELDE Cc: Thong TRAN ; Van Anh DO Subject: Scb agrees to award us the project Hello Christophe & Hussam Thanks to your hard work and teamwork , I am pleased to say that Upskills is going to be a vendor with scb. I just had a coffee with Saim and he just gave the green signal for on-boarding process. Well done and congrats on your achievement . Thank you Regards George Get Outlook for iOS\""
   ]
  },
  {
   "cell_type": "code",
   "execution_count": null,
   "metadata": {},
   "outputs": [],
   "source": []
  },
  {
   "cell_type": "code",
   "execution_count": null,
   "metadata": {},
   "outputs": [],
   "source": []
  }
 ],
 "metadata": {
  "kernelspec": {
   "display_name": "Python 3",
   "language": "python",
   "name": "python3"
  },
  "language_info": {
   "codemirror_mode": {
    "name": "ipython",
    "version": 3
   },
   "file_extension": ".py",
   "mimetype": "text/x-python",
   "name": "python",
   "nbconvert_exporter": "python",
   "pygments_lexer": "ipython3",
   "version": "3.7.3"
  }
 },
 "nbformat": 4,
 "nbformat_minor": 2
}
